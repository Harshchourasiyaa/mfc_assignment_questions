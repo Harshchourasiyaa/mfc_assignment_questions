{
 "cells": [
  {
   "cell_type": "code",
   "execution_count": null,
   "id": "1ab6ecdf",
   "metadata": {},
   "outputs": [
    {
     "name": "stdout",
     "output_type": "stream",
     "text": [
      "{'D': 1, 'B': 2, 'A': 2, 'C': 3}\n"
     ]
    }
   ],
   "source": [
    "#Write a code to find the degree of each vertex, and store it in a dictionary. \n",
    "# Sort the keys of the dictionary by the degree stored in the values.\n",
    "\n",
    "def vertex_degrees(graph):\n",
    "    degree_dict = {}\n",
    "\n",
    "    # Count the number of neighbors (degree) for each vertex\n",
    "    for node in graph:\n",
    "        degree = len(graph[node])\n",
    "        degree_dict[node] = degree\n",
    "\n",
    "    # Create a list of nodes sorted by their degree\n",
    "    sorted_nodes = []\n",
    "    for key in degree_dict:\n",
    "        sorted_nodes.append((key, degree_dict[key]))\n",
    "\n",
    "    # Sort the list manually by degree (the second item in each tuple)\n",
    "    for i in range(len(sorted_nodes)):\n",
    "        for j in range(i + 1, len(sorted_nodes)):\n",
    "            if sorted_nodes[i][1] > sorted_nodes[j][1]:\n",
    "                sorted_nodes[i], sorted_nodes[j] = sorted_nodes[j], sorted_nodes[i]\n",
    "\n",
    "    # Convert the sorted list back into a dictionary\n",
    "    sorted_degree_dict = {}\n",
    "    for item in sorted_nodes:\n",
    "        sorted_degree_dict[item[0]] = item[1]\n",
    "\n",
    "    return sorted_degree_dict\n",
    "\n",
    "\n",
    "graph = {\n",
    "    'A': ['B', 'C'],\n",
    "    'B': ['A', 'C'],\n",
    "    'C': ['A', 'B', 'D'],\n",
    "    'D': ['C']\n",
    "}\n",
    "\n",
    "print(vertex_degrees(graph))\n",
    "\n"
   ]
  },
  {
   "cell_type": "code",
   "execution_count": 26,
   "id": "7fea3c54",
   "metadata": {},
   "outputs": [
    {
     "name": "stdout",
     "output_type": "stream",
     "text": [
      "Original Adjacency List:\n",
      "{'A': ['B', 'C'], 'B': ['A', 'C'], 'C': ['A', 'B']}\n",
      "\n",
      "Adjacency Matrix:\n",
      "[0, 1, 1]\n",
      "[1, 0, 1]\n",
      "[1, 1, 0]\n",
      "\n",
      "Restored List from Matrix:\n",
      "{'A': ['B', 'C'], 'B': ['A', 'C'], 'C': ['A', 'B']}\n",
      "\n",
      "Edge List:\n",
      "[('A', 'B'), ('A', 'C'), ('B', 'C')]\n",
      "\n",
      "Restored List from Edge List:\n",
      "{'A': ['B', 'C'], 'B': ['A', 'C'], 'C': ['A', 'B']}\n"
     ]
    }
   ],
   "source": [
    "#Write a code to inter-convert the 3 graph representations we have learnt.\n",
    "\n",
    "\n",
    "# GRAPH (Adjacency List format)\n",
    "adj_list = {\n",
    "    'A': ['B', 'C'],\n",
    "    'B': ['A', 'C'],\n",
    "    'C': ['A', 'B']\n",
    "}\n",
    "\n",
    "\n",
    "\n",
    "# 1. Adjacency List → Adjacency Matrix\n",
    "\n",
    "def list_to_matrix(adj_list):\n",
    "    # Get all nodes and maintain their order\n",
    "    nodes = list(adj_list.keys())\n",
    "    n = len(nodes)\n",
    "\n",
    "    # Create an empty matrix of size n x n\n",
    "    matrix = []\n",
    "    for i in range(n):\n",
    "        row = []\n",
    "        for j in range(n):\n",
    "            if nodes[j] in adj_list[nodes[i]]:\n",
    "                row.append(1)  # There is an edge\n",
    "            else:\n",
    "                row.append(0)  # No edge\n",
    "        matrix.append(row)\n",
    "\n",
    "    return nodes, matrix  # Return node labels and matrix\n",
    "\n",
    "\n",
    "\n",
    "# 2. Adjacency Matrix → Adjacency List\n",
    "\n",
    "def matrix_to_list(nodes, matrix):\n",
    "    adj_list = {}\n",
    "\n",
    "    for i in range(len(nodes)):\n",
    "        adj_list[nodes[i]] = []\n",
    "        for j in range(len(nodes)):\n",
    "            if matrix[i][j] == 1:\n",
    "                adj_list[nodes[i]].append(nodes[j])\n",
    "    \n",
    "    return adj_list\n",
    "\n",
    "\n",
    "\n",
    "# 3. Adjacency List → Edge List\n",
    "\n",
    "def list_to_edge_list(adj_list):\n",
    "    edges = []\n",
    "\n",
    "    for node in adj_list:\n",
    "        for neighbor in adj_list[node]:\n",
    "            # Add edge only once (for undirected graph)\n",
    "            if (neighbor, node) not in edges:\n",
    "                edges.append((node, neighbor))\n",
    "    \n",
    "    return edges\n",
    "\n",
    "\n",
    "\n",
    "# 4. Edge List → Adjacency List\n",
    "\n",
    "def edge_list_to_list(edge_list):\n",
    "    adj_list = {}\n",
    "\n",
    "    for u, v in edge_list:\n",
    "        if u not in adj_list:\n",
    "            adj_list[u] = []\n",
    "        if v not in adj_list:\n",
    "            adj_list[v] = []\n",
    "        adj_list[u].append(v)\n",
    "        adj_list[v].append(u)  # Because the graph is undirected\n",
    "\n",
    "    return adj_list\n",
    "\n",
    "\n",
    "\n",
    "\n",
    "# Original adjacency list\n",
    "print(\"Original Adjacency List:\")\n",
    "print(adj_list)\n",
    "\n",
    "# List → Matrix\n",
    "labels, adj_matrix = list_to_matrix(adj_list)\n",
    "print(\"\\nAdjacency Matrix:\")\n",
    "for row in adj_matrix:\n",
    "    print(row)\n",
    "\n",
    "# Matrix → List\n",
    "restored_list_from_matrix = matrix_to_list(labels, adj_matrix)\n",
    "print(\"\\nRestored List from Matrix:\")\n",
    "print(restored_list_from_matrix)\n",
    "\n",
    "# List → Edge List\n",
    "edge_list = list_to_edge_list(adj_list)\n",
    "print(\"\\nEdge List:\")\n",
    "print(edge_list)\n",
    "\n",
    "# Edge List → List\n",
    "restored_list_from_edges = edge_list_to_list(edge_list)\n",
    "print(\"\\nRestored List from Edge List:\")\n",
    "print(restored_list_from_edges)\n"
   ]
  },
  {
   "cell_type": "code",
   "execution_count": 27,
   "id": "eea3351c",
   "metadata": {},
   "outputs": [
    {
     "name": "stdout",
     "output_type": "stream",
     "text": [
      "Are A and B adjacent? True\n",
      "Are B and C adjacent? False\n"
     ]
    }
   ],
   "source": [
    "#Given a graph and two vertices, check if they are adjacent. \n",
    "\n",
    "def are_adjacent(graph, node1, node2):\n",
    "    # Check if node1 exists in the graph\n",
    "    if node1 in graph:\n",
    "        # Check if node2 is in the list of neighbors of node1\n",
    "        if node2 in graph[node1]:\n",
    "            return True\n",
    "    return False\n",
    "\n",
    "\n",
    "graph = {\n",
    "    'A': ['B', 'C'],\n",
    "    'B': ['A'],\n",
    "    'C': ['A']\n",
    "}\n",
    "\n",
    "\n",
    "print(\"Are A and B adjacent?\", are_adjacent(graph, 'A', 'B'))  \n",
    "print(\"Are B and C adjacent?\", are_adjacent(graph, 'B', 'C'))  \n"
   ]
  },
  {
   "cell_type": "code",
   "execution_count": 28,
   "id": "64a0c755",
   "metadata": {},
   "outputs": [
    {
     "name": "stdout",
     "output_type": "stream",
     "text": [
      "Is graph1 complete? True\n",
      "Is graph2 complete? False\n"
     ]
    }
   ],
   "source": [
    "# Check if a graph is complete.\n",
    "\n",
    "# A complete graph has every vertex connected to every other vertex\n",
    "def is_complete(graph):\n",
    "    total_nodes = len(graph)\n",
    "\n",
    "    for node in graph:\n",
    "        # Each node should be connected to (total_nodes - 1) other nodes\n",
    "        if len(graph[node]) != total_nodes - 1:\n",
    "            return False\n",
    "    return True\n",
    "\n",
    "\n",
    "graph1 = {\n",
    "    'A': ['B', 'C'],\n",
    "    'B': ['A', 'C'],\n",
    "    'C': ['A', 'B']\n",
    "}\n",
    "graph2 = {\n",
    "    'A': ['B'],\n",
    "    'B': ['A'],\n",
    "    'C': []\n",
    "}\n",
    "\n",
    "print(\"Is graph1 complete?\", is_complete(graph1))  \n",
    "print(\"Is graph2 complete?\", is_complete(graph2))  \n"
   ]
  },
  {
   "cell_type": "code",
   "execution_count": 29,
   "id": "4c09763a",
   "metadata": {},
   "outputs": [
    {
     "name": "stdout",
     "output_type": "stream",
     "text": [
      "Is graph1 connected? True\n",
      "Is graph2 connected? False\n"
     ]
    }
   ],
   "source": [
    "#Check if a graph is connected\n",
    "\n",
    "# Use Breadth-First Search (BFS) to see if all nodes are reachable\n",
    "def is_connected(graph):\n",
    "    start = list(graph.keys())[0]  # Start from any node\n",
    "    visited = []\n",
    "    queue = [start]\n",
    "\n",
    "    while queue:\n",
    "        current = queue.pop(0)\n",
    "        if current not in visited:\n",
    "            visited.append(current)\n",
    "            for neighbor in graph[current]:\n",
    "                if neighbor not in visited:\n",
    "                    queue.append(neighbor)\n",
    "\n",
    "    # If all nodes are visited, graph is connected\n",
    "    return len(visited) == len(graph)\n",
    "\n",
    "\n",
    "graph1 = {\n",
    "    'A': ['B'],\n",
    "    'B': ['A', 'C'],\n",
    "    'C': ['B']\n",
    "}\n",
    "graph2 = {\n",
    "    'A': ['B'],\n",
    "    'B': ['A'],\n",
    "    'C': []\n",
    "}\n",
    "\n",
    "print(\"Is graph1 connected?\", is_connected(graph1))  \n",
    "print(\"Is graph2 connected?\", is_connected(graph2))  \n"
   ]
  },
  {
   "cell_type": "code",
   "execution_count": null,
   "id": "52d2b1b6",
   "metadata": {},
   "outputs": [
    {
     "name": "stdout",
     "output_type": "stream",
     "text": [
      "Path\n",
      "Walk\n"
     ]
    }
   ],
   "source": [
    "# Given a graph and a list of vertices, check if it forms a walk, or a trail or a path or none of these.\n",
    "\n",
    "# A walk can repeat both vertices and edges\n",
    "# A trail cannot repeat edges\n",
    "# A path cannot repeat vertices\n",
    "\n",
    "def check_walk_type(graph, vertex_list):\n",
    "    # Check if it's a walk (each pair must be adjacent)\n",
    "    for i in range(len(vertex_list) - 1):\n",
    "        u = vertex_list[i]\n",
    "        v = vertex_list[i + 1]\n",
    "        if v not in graph[u]:\n",
    "            return \"Not a walk\"\n",
    "\n",
    "    # Check for trail (no repeated edges)\n",
    "    edge_set = set()\n",
    "    for i in range(len(vertex_list) - 1):\n",
    "        u = vertex_list[i]\n",
    "        v = vertex_list[i + 1]\n",
    "        # Store edge as a sorted tuple\n",
    "        edge = tuple(sorted((u, v)))\n",
    "        if edge in edge_set:\n",
    "            break  # If edge is repeated, not a trail\n",
    "        edge_set.add(edge)\n",
    "    else:\n",
    "        # If no repeated edge\n",
    "        vertex_set = set(vertex_list)\n",
    "        if len(vertex_set) == len(vertex_list):\n",
    "            return \"Path\"  # No repeated vertices = path\n",
    "        return \"Trail\"  # Repeated vertices but no repeated edges\n",
    "\n",
    "    return \"Walk\"  # Repeated edges = walk\n",
    "\n",
    "\n",
    "graph = {\n",
    "    'A': ['B'],\n",
    "    'B': ['A', 'C'],\n",
    "    'C': ['B', 'D'],\n",
    "    'D': ['C']\n",
    "}\n",
    "\n",
    "print(check_walk_type(graph, ['A', 'B', 'C', 'D']))  \n",
    "print(check_walk_type(graph, ['A', 'B', 'A']))        \n"
   ]
  },
  {
   "cell_type": "code",
   "execution_count": 31,
   "id": "d62c5609",
   "metadata": {},
   "outputs": [
    {
     "name": "stdout",
     "output_type": "stream",
     "text": [
      "Is it a tree? True\n"
     ]
    }
   ],
   "source": [
    "#Check if a given graph is a tree.\n",
    "\n",
    "def is_tree(graph):\n",
    "    visited = set()\n",
    "    parent = {}\n",
    "\n",
    "    # DFS helper\n",
    "    def dfs(current, prev):\n",
    "        visited.add(current)\n",
    "        for neighbor in graph[current]:\n",
    "            if neighbor not in visited:\n",
    "                parent[neighbor] = current\n",
    "                if not dfs(neighbor, current):\n",
    "                    return False\n",
    "            elif neighbor != prev:\n",
    "                # Found a back edge = cycle\n",
    "                return False\n",
    "        return True\n",
    "\n",
    "    start = list(graph.keys())[0]\n",
    "    if not dfs(start, None):\n",
    "        return False\n",
    "\n",
    "    # If connected and acyclic\n",
    "    return len(visited) == len(graph)\n",
    "\n",
    "\n",
    "graph = {\n",
    "    'A': ['B'],\n",
    "    'B': ['A', 'C'],\n",
    "    'C': ['B']\n",
    "}\n",
    "print(\"Is it a tree?\", is_tree(graph))  \n"
   ]
  },
  {
   "cell_type": "code",
   "execution_count": 33,
   "id": "3ec19325",
   "metadata": {},
   "outputs": [
    {
     "name": "stdout",
     "output_type": "stream",
     "text": [
      "Spanning Tree: {'A': ['B'], 'B': ['C'], 'C': []}\n"
     ]
    }
   ],
   "source": [
    "#Given a connected cyclic graph, find its spanning tree.\n",
    "\n",
    "def spanning_tree(graph):\n",
    "    tree = {}\n",
    "    visited = set()\n",
    "    start = list(graph.keys())[0]\n",
    "\n",
    "    def dfs(node):\n",
    "        visited.add(node)\n",
    "        tree[node] = []\n",
    "        for neighbor in graph[node]:\n",
    "            if neighbor not in visited:\n",
    "                tree[node].append(neighbor)\n",
    "                if neighbor not in tree:\n",
    "                    tree[neighbor] = []\n",
    "                tree[neighbor].append(node)\n",
    "                dfs(neighbor)\n",
    "\n",
    "    dfs(start)\n",
    "    return tree\n",
    "\n",
    "\n",
    "graph = {\n",
    "    'A': ['B', 'C'],\n",
    "    'B': ['A', 'C'],\n",
    "    'C': ['A', 'B']\n",
    "}\n",
    "\n",
    "print(\"Spanning Tree:\", spanning_tree(graph))\n"
   ]
  },
  {
   "cell_type": "code",
   "execution_count": null,
   "id": "769e8e23",
   "metadata": {},
   "outputs": [
    {
     "name": "stdout",
     "output_type": "stream",
     "text": [
      "Number of leaf nodes: 2\n"
     ]
    }
   ],
   "source": [
    "#Given a tree, find the number of leaf nodes.\n",
    "\n",
    "def count_leaves(tree):\n",
    "    leaf_count = 0\n",
    "    for node in tree:\n",
    "        if len(tree[node]) == 1:\n",
    "            leaf_count += 1\n",
    "    return leaf_count\n",
    "\n",
    "\n",
    "tree = {\n",
    "    'A': ['B'],\n",
    "    'B': ['A', 'C'],\n",
    "    'C': ['B']\n",
    "}\n",
    "\n",
    "print(\"Number of leaf nodes:\", count_leaves(tree))  # 2 (A and C)\n"
   ]
  },
  {
   "cell_type": "code",
   "execution_count": 35,
   "id": "61fcec60",
   "metadata": {},
   "outputs": [
    {
     "name": "stdout",
     "output_type": "stream",
     "text": [
      "True\n"
     ]
    }
   ],
   "source": [
    "#Given a tree, check if it's a binary tree.\n",
    "\n",
    "def is_binary_tree(tree):\n",
    "    for node in tree:\n",
    "        if len(tree[node]) > 2:\n",
    "            return False\n",
    "    return True\n",
    "\n",
    "\n",
    "tree = {\n",
    "    'A': ['B', 'C'],\n",
    "    'B': ['A'],\n",
    "    'C': ['A']\n",
    "}\n",
    "\n",
    "print(is_binary_tree(tree))  \n",
    "\n"
   ]
  },
  {
   "cell_type": "code",
   "execution_count": 36,
   "id": "8bfb7a73",
   "metadata": {},
   "outputs": [
    {
     "name": "stdout",
     "output_type": "stream",
     "text": [
      "Height of node B: 1\n"
     ]
    }
   ],
   "source": [
    "#Given a tree and a node, find its height.\n",
    "\n",
    "#Height = longest path from the node to a leaf.\n",
    "def node_height(tree, start):\n",
    "    def dfs(node, parent):\n",
    "        heights = []\n",
    "        for neighbor in tree[node]:\n",
    "            if neighbor != parent:\n",
    "                heights.append(dfs(neighbor, node))\n",
    "        if heights:\n",
    "            return 1 + max(heights)\n",
    "        else:\n",
    "            return 0  # Leaf node\n",
    "    return dfs(start, None)\n",
    "\n",
    "\n",
    "tree = {\n",
    "    'A': ['B'],\n",
    "    'B': ['A', 'C'],\n",
    "    'C': ['B']\n",
    "}\n",
    "\n",
    "print(\"Height of node B:\", node_height(tree, 'B'))  \n"
   ]
  },
  {
   "cell_type": "code",
   "execution_count": 37,
   "id": "fd512e15",
   "metadata": {},
   "outputs": [
    {
     "name": "stdout",
     "output_type": "stream",
     "text": [
      "Depth of node C from A: 2\n"
     ]
    }
   ],
   "source": [
    "#Given a tree and a node, find its depth.\n",
    "\n",
    "#Depth = distance from the root to the node.\n",
    "def node_depth(tree, root, target):\n",
    "    def dfs(node, parent, depth):\n",
    "        if node == target:\n",
    "            return depth\n",
    "        for neighbor in tree[node]:\n",
    "            if neighbor != parent:\n",
    "                result = dfs(neighbor, node, depth + 1)\n",
    "                if result != -1:\n",
    "                    return result\n",
    "        return -1  # Not found\n",
    "\n",
    "    return dfs(root, None, 0)\n",
    "\n",
    "\n",
    "tree = {\n",
    "    'A': ['B'],\n",
    "    'B': ['A', 'C'],\n",
    "    'C': ['B']\n",
    "}\n",
    "\n",
    "print(\"Depth of node C from A:\", node_depth(tree, 'A', 'C'))  \n",
    "\n"
   ]
  },
  {
   "cell_type": "code",
   "execution_count": null,
   "id": "54150f84",
   "metadata": {},
   "outputs": [],
   "source": []
  }
 ],
 "metadata": {
  "kernelspec": {
   "display_name": "Python 3",
   "language": "python",
   "name": "python3"
  },
  "language_info": {
   "codemirror_mode": {
    "name": "ipython",
    "version": 3
   },
   "file_extension": ".py",
   "mimetype": "text/x-python",
   "name": "python",
   "nbconvert_exporter": "python",
   "pygments_lexer": "ipython3",
   "version": "3.13.1"
  }
 },
 "nbformat": 4,
 "nbformat_minor": 5
}
